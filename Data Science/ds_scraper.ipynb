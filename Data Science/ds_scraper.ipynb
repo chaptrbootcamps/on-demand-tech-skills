{
 "metadata": {
  "language_info": {
   "codemirror_mode": {
    "name": "ipython",
    "version": 3
   },
   "file_extension": ".py",
   "mimetype": "text/x-python",
   "name": "python",
   "nbconvert_exporter": "python",
   "pygments_lexer": "ipython3",
   "version": "3.7.4-final"
  },
  "orig_nbformat": 2,
  "kernelspec": {
   "name": "python3",
   "display_name": "Python 3",
   "language": "python"
  }
 },
 "nbformat": 4,
 "nbformat_minor": 2,
 "cells": [
  {
   "source": [
    "# Data Science Jobs Scraper"
   ],
   "cell_type": "markdown",
   "metadata": {}
  },
  {
   "cell_type": "code",
   "execution_count": 147,
   "metadata": {},
   "outputs": [],
   "source": [
    "import re\n",
    "import requests\n",
    "import numpy as np\n",
    "import pandas as pd\n",
    "from bs4 import BeautifulSoup"
   ]
  },
  {
   "source": [
    "### Import Target Keywords"
   ],
   "cell_type": "markdown",
   "metadata": {}
  },
  {
   "cell_type": "code",
   "execution_count": 148,
   "metadata": {},
   "outputs": [
    {
     "output_type": "stream",
     "name": "stdout",
     "text": [
      "Total Skills:  50  technologies\n"
     ]
    },
    {
     "output_type": "execute_result",
     "data": {
      "text/plain": [
       "        Skill     Category  total_jobs\n",
       "0      python  programming           0\n",
       "1           r  programming           0\n",
       "2         sql     database           0\n",
       "3        java  programming           0\n",
       "4  javascript  programming           0"
      ],
      "text/html": "<div>\n<style scoped>\n    .dataframe tbody tr th:only-of-type {\n        vertical-align: middle;\n    }\n\n    .dataframe tbody tr th {\n        vertical-align: top;\n    }\n\n    .dataframe thead th {\n        text-align: right;\n    }\n</style>\n<table border=\"1\" class=\"dataframe\">\n  <thead>\n    <tr style=\"text-align: right;\">\n      <th></th>\n      <th>Skill</th>\n      <th>Category</th>\n      <th>total_jobs</th>\n    </tr>\n  </thead>\n  <tbody>\n    <tr>\n      <td>0</td>\n      <td>python</td>\n      <td>programming</td>\n      <td>0</td>\n    </tr>\n    <tr>\n      <td>1</td>\n      <td>r</td>\n      <td>programming</td>\n      <td>0</td>\n    </tr>\n    <tr>\n      <td>2</td>\n      <td>sql</td>\n      <td>database</td>\n      <td>0</td>\n    </tr>\n    <tr>\n      <td>3</td>\n      <td>java</td>\n      <td>programming</td>\n      <td>0</td>\n    </tr>\n    <tr>\n      <td>4</td>\n      <td>javascript</td>\n      <td>programming</td>\n      <td>0</td>\n    </tr>\n  </tbody>\n</table>\n</div>"
     },
     "metadata": {},
     "execution_count": 148
    }
   ],
   "source": [
    "df = pd.read_csv(\"ds_skills.csv\")\n",
    "\n",
    "df[\"Skill\"] = df[\"Skill\"].str.lower()\n",
    "df[\"Category\"] = df[\"Category\"].str.lower()\n",
    "df['total_jobs'] = 0\n",
    "\n",
    "print(\"Total Skills: \", df.shape[0], \" technologies\")\n",
    "df.head()"
   ]
  },
  {
   "cell_type": "code",
   "execution_count": 149,
   "metadata": {},
   "outputs": [
    {
     "output_type": "stream",
     "name": "stdout",
     "text": [
      "['python', 'r', 'sql', 'java', 'javascript', 'c', 'scala', 'julia', 'sas', 'matlab', 'matplotlib', 'seaborn', 'bokeh', 'plotly', 'ggplot', 'numpy', 'scipy', 'pandas', 'scikit learn', 'keras', 'pytorch', 'xgboost', 'tensorflow', 'aws', 'azure', 'haskel', 'swift', 'octave', 'perl', 'lisp', 'excel', 'power bi', 'tableau', 'google cloud', 'spark', 'hadoop', 'git', 'spss', 'stata', 'pig', 'hbase', 'docker', 'kubernetes', 'statsmodels', 'nltk', 'bitbucket', 'github', 'gitlab', 'nosql', 'hive']\n"
     ]
    }
   ],
   "source": [
    "skills = df['Skill'].to_list()\n",
    "\n",
    "print(skills)"
   ]
  },
  {
   "source": [
    "## Indeed"
   ],
   "cell_type": "markdown",
   "metadata": {}
  },
  {
   "cell_type": "code",
   "execution_count": 150,
   "metadata": {},
   "outputs": [
    {
     "output_type": "stream",
     "name": "stdout",
     "text": [
      "4758 Data Science Jobs\n"
     ]
    }
   ],
   "source": [
    "url = f'https://www.indeed.com/jobs?q=%22data+scientist%22&l=United+States'\n",
    "\n",
    "try:\n",
    "    r = requests.get(url)\n",
    "    soup = BeautifulSoup(r.text, 'html.parser')\n",
    "    count_str = soup.find('div', id=\"searchCountPages\").get_text()\n",
    "    numb = count_str.split()\n",
    "    indeed_total = int(re.sub(\",\", \"\", numb[-2]))\n",
    "\n",
    "except Exception as e:\n",
    "    print(f'error: {e}')\n",
    "\n",
    "print(indeed_total, \"Data Science Jobs\")"
   ]
  },
  {
   "cell_type": "code",
   "execution_count": 151,
   "metadata": {},
   "outputs": [
    {
     "output_type": "stream",
     "name": "stdout",
     "text": [
      "['3,621', '2,458', '2,623', '1,059', '273', '415', '640', '64', '720', '444', '128', '40', '84', '56', '87', '302', '151', '364', '415', '271', '403', '65', '678', '1,104', '490', '1', '10', '40', '105', '2', '494', '244', '1,069', '181', '1,230', '884', '255', '166', '59', '140', '104', '280', '188', '35', '44', '29', '173', '25', '327', '462']\n"
     ]
    }
   ],
   "source": [
    "indeed_list = []\n",
    "\n",
    "for skill in skills:\n",
    "    url = f'https://www.indeed.com/jobs?q=%22data+scientist%22+%22{skill}%22&l=United+States'\n",
    "    \n",
    "    try:\n",
    "        r = requests.get(url)\n",
    "        soup = BeautifulSoup(r.text, 'html.parser')\n",
    "        count_str = soup.find('div', id=\"searchCountPages\").get_text()\n",
    "        numb = count_str.split()\n",
    "        indeed_list.append(numb[-2])\n",
    "    except Exception as e:\n",
    "        print(f'error: {e}')\n",
    "        \n",
    "print(indeed_list)"
   ]
  },
  {
   "cell_type": "code",
   "execution_count": 152,
   "metadata": {},
   "outputs": [
    {
     "output_type": "execute_result",
     "data": {
      "text/plain": [
       "        Skill     Category  total_jobs  indeed\n",
       "0      python  programming        4758    3621\n",
       "1           r  programming        4758    2458\n",
       "2         sql     database        4758    2623\n",
       "3        java  programming        4758    1059\n",
       "4  javascript  programming        4758     273"
      ],
      "text/html": "<div>\n<style scoped>\n    .dataframe tbody tr th:only-of-type {\n        vertical-align: middle;\n    }\n\n    .dataframe tbody tr th {\n        vertical-align: top;\n    }\n\n    .dataframe thead th {\n        text-align: right;\n    }\n</style>\n<table border=\"1\" class=\"dataframe\">\n  <thead>\n    <tr style=\"text-align: right;\">\n      <th></th>\n      <th>Skill</th>\n      <th>Category</th>\n      <th>total_jobs</th>\n      <th>indeed</th>\n    </tr>\n  </thead>\n  <tbody>\n    <tr>\n      <td>0</td>\n      <td>python</td>\n      <td>programming</td>\n      <td>4758</td>\n      <td>3621</td>\n    </tr>\n    <tr>\n      <td>1</td>\n      <td>r</td>\n      <td>programming</td>\n      <td>4758</td>\n      <td>2458</td>\n    </tr>\n    <tr>\n      <td>2</td>\n      <td>sql</td>\n      <td>database</td>\n      <td>4758</td>\n      <td>2623</td>\n    </tr>\n    <tr>\n      <td>3</td>\n      <td>java</td>\n      <td>programming</td>\n      <td>4758</td>\n      <td>1059</td>\n    </tr>\n    <tr>\n      <td>4</td>\n      <td>javascript</td>\n      <td>programming</td>\n      <td>4758</td>\n      <td>273</td>\n    </tr>\n  </tbody>\n</table>\n</div>"
     },
     "metadata": {},
     "execution_count": 152
    }
   ],
   "source": [
    "indeed = []\n",
    "\n",
    "for i in indeed_list:\n",
    "    indeed.append(int(re.sub(\",\", \"\", i)))\n",
    "\n",
    "df['total_jobs'] = df['total_jobs'] + indeed_total\n",
    "df['indeed'] = indeed\n",
    "df.head()"
   ]
  },
  {
   "source": [
    "## Simply Hired"
   ],
   "cell_type": "markdown",
   "metadata": {}
  },
  {
   "cell_type": "code",
   "execution_count": 153,
   "metadata": {},
   "outputs": [
    {
     "output_type": "stream",
     "name": "stdout",
     "text": [
      "3523 Data Science Jobs\n"
     ]
    }
   ],
   "source": [
    "url = f'https://www.simplyhired.com/search?q=%22data+scientist%22&l=United+States'\n",
    "    \n",
    "try:\n",
    "    r = requests.get(url)\n",
    "    soup = BeautifulSoup(r.text, 'html.parser')\n",
    "    count_str = soup.find('span', class_=\"CategoryPath-total\").get_text()\n",
    "    simply_total = int(re.sub(\",\", \"\", count_str))\n",
    "\n",
    "except Exception as e:\n",
    "    print(f'error: {e}')\n",
    "\n",
    "print(simply_total, \"Data Science Jobs\")"
   ]
  },
  {
   "cell_type": "code",
   "execution_count": 154,
   "metadata": {},
   "outputs": [
    {
     "output_type": "stream",
     "name": "stdout",
     "text": [
      "['2,710', '1,814', '1,995', '762', '177', '319', '453', '61', '534', '320', '94', '29', '46', '53', '72', '225', '120', '296', '285', '216', '304', '47', '526', '794', '397', '1', '9', '13', '90', '2', '405', '204', '753', '123', '931', '695', '218', '132', '54', '108', '87', '192', '155', '24', '41', '29', '136', '23', '270', '350']\n"
     ]
    }
   ],
   "source": [
    "simply_list = []\n",
    "\n",
    "for skill in skills:\n",
    "    url = f'https://www.simplyhired.com/search?q=%22data+scientist%22+%22{skill}%22&l=United+States'\n",
    "    \n",
    "    try:\n",
    "        r = requests.get(url)\n",
    "        soup = BeautifulSoup(r.text, 'html.parser')\n",
    "        count_str = soup.find('span', class_=\"CategoryPath-total\").get_text()\n",
    "        simply_list.append(count_str)\n",
    "    except Exception as e:\n",
    "        print(f'error: {e}')\n",
    "        \n",
    "print(simply_list)"
   ]
  },
  {
   "cell_type": "code",
   "execution_count": 155,
   "metadata": {},
   "outputs": [
    {
     "output_type": "execute_result",
     "data": {
      "text/plain": [
       "        Skill     Category  total_jobs  indeed  simply\n",
       "0      python  programming        8281    3621    2710\n",
       "1           r  programming        8281    2458    1814\n",
       "2         sql     database        8281    2623    1995\n",
       "3        java  programming        8281    1059     762\n",
       "4  javascript  programming        8281     273     177"
      ],
      "text/html": "<div>\n<style scoped>\n    .dataframe tbody tr th:only-of-type {\n        vertical-align: middle;\n    }\n\n    .dataframe tbody tr th {\n        vertical-align: top;\n    }\n\n    .dataframe thead th {\n        text-align: right;\n    }\n</style>\n<table border=\"1\" class=\"dataframe\">\n  <thead>\n    <tr style=\"text-align: right;\">\n      <th></th>\n      <th>Skill</th>\n      <th>Category</th>\n      <th>total_jobs</th>\n      <th>indeed</th>\n      <th>simply</th>\n    </tr>\n  </thead>\n  <tbody>\n    <tr>\n      <td>0</td>\n      <td>python</td>\n      <td>programming</td>\n      <td>8281</td>\n      <td>3621</td>\n      <td>2710</td>\n    </tr>\n    <tr>\n      <td>1</td>\n      <td>r</td>\n      <td>programming</td>\n      <td>8281</td>\n      <td>2458</td>\n      <td>1814</td>\n    </tr>\n    <tr>\n      <td>2</td>\n      <td>sql</td>\n      <td>database</td>\n      <td>8281</td>\n      <td>2623</td>\n      <td>1995</td>\n    </tr>\n    <tr>\n      <td>3</td>\n      <td>java</td>\n      <td>programming</td>\n      <td>8281</td>\n      <td>1059</td>\n      <td>762</td>\n    </tr>\n    <tr>\n      <td>4</td>\n      <td>javascript</td>\n      <td>programming</td>\n      <td>8281</td>\n      <td>273</td>\n      <td>177</td>\n    </tr>\n  </tbody>\n</table>\n</div>"
     },
     "metadata": {},
     "execution_count": 155
    }
   ],
   "source": [
    "simply = []\n",
    "\n",
    "for i in simply_list:\n",
    "    simply.append(int(re.sub(\",\", \"\", i)))\n",
    "\n",
    "df['total_jobs'] = df['total_jobs'] + simply_total\n",
    "df['simply'] = simply\n",
    "df.head()"
   ]
  },
  {
   "source": [
    "## Glassdoor"
   ],
   "cell_type": "markdown",
   "metadata": {}
  },
  {
   "cell_type": "code",
   "execution_count": 156,
   "metadata": {},
   "outputs": [
    {
     "output_type": "stream",
     "name": "stdout",
     "text": [
      "403\n"
     ]
    }
   ],
   "source": [
    "url = f'https://www.glassdoor.com/Job/jobs.htm?sc.keyword=\"data+scientist\"+\"%22python%22\"'\n",
    "\n",
    "r = requests.get(url)\n",
    "print(r.status_code)"
   ]
  },
  {
   "source": [
    "**Status code is 403 (Forbidden)**. Therefore, we can not scrape content from Glassdoor. Optionally, we can try using **Selenium** in the future."
   ],
   "cell_type": "markdown",
   "metadata": {}
  },
  {
   "source": [
    "## Zip Recruiter"
   ],
   "cell_type": "markdown",
   "metadata": {}
  },
  {
   "cell_type": "code",
   "execution_count": 157,
   "metadata": {},
   "outputs": [
    {
     "output_type": "stream",
     "name": "stdout",
     "text": [
      "403\n"
     ]
    }
   ],
   "source": [
    "url = f'https://www.ziprecruiter.com/candidate/search?search=data+scientist&location=United+States'\n",
    "\n",
    "r = requests.get(url)\n",
    "print(r.status_code)"
   ]
  },
  {
   "source": [
    "**Status code is 403 (Forbidden)**. Therefore, we can not scrape content from Glassdoor. Optionally, we can try using **Selenium** in the future."
   ],
   "cell_type": "markdown",
   "metadata": {}
  },
  {
   "source": [
    "## Career Builder"
   ],
   "cell_type": "markdown",
   "metadata": {}
  },
  {
   "cell_type": "code",
   "execution_count": 158,
   "metadata": {
    "tags": []
   },
   "outputs": [
    {
     "output_type": "stream",
     "name": "stdout",
     "text": [
      "3385 Data Science Jobs\n"
     ]
    }
   ],
   "source": [
    "url = 'https://www.careerbuilder.com/jobs?keywords=Data+Scientist&location=United+States'\n",
    "\n",
    "try:\n",
    "    r = requests.get(url)\n",
    "    soup = BeautifulSoup(r.text, 'html.parser')\n",
    "    count_str = soup.find('h1', class_=\"fz1rem\").get_text()\n",
    "    career_total = int(re.sub(\",\", \"\", count_str.split()[0]))\n",
    "\n",
    "except Exception as e:\n",
    "    print(f'error: {e}')\n",
    "\n",
    "print(career_total, \"Data Science Jobs\")"
   ]
  },
  {
   "cell_type": "code",
   "execution_count": 159,
   "metadata": {},
   "outputs": [
    {
     "output_type": "stream",
     "name": "stdout",
     "text": [
      "error: 'NoneType' object has no attribute 'get_text'\n",
      "haskel\n",
      "[889, 1081, 694, 339, 104, 490, 152, 4, 168, 107, 30, 12, 6, 6, 25, 71, 31, 68, 54, 54, 48, 15, 103, 286, 169, 0, 1, 1, 53, 1, 577, 52, 291, 46, 298, 270, 110, 24, 11, 62, 37, 117, 74, 3, 14, 9, 47, 6, 107, 165]\n"
     ]
    }
   ],
   "source": [
    "career_list = []\n",
    "\n",
    "for skill in skills:\n",
    "    keyword = str(re.sub(\",\", \"+\", skill))\n",
    "    url = f'https://www.careerbuilder.com/jobs?keywords={keyword}+Data+Scientist&location=United+States'\n",
    "    \n",
    "    try:\n",
    "        r = requests.get(url)\n",
    "        soup = BeautifulSoup(r.text, 'html.parser')\n",
    "        count_str = soup.find('h1', class_=\"fz1rem\").get_text()\n",
    "        career_list.append(int(re.sub(\",\", \"\", count_str.split()[0])))\n",
    "    \n",
    "    except Exception as e:\n",
    "        career_list.append(0)\n",
    "        print(f'error: {e}')\n",
    "        print(skill)\n",
    "        \n",
    "print(career_list)"
   ]
  },
  {
   "cell_type": "code",
   "execution_count": 160,
   "metadata": {},
   "outputs": [
    {
     "output_type": "execute_result",
     "data": {
      "text/plain": [
       "        Skill     Category  total_jobs  indeed  simply  career\n",
       "0      python  programming       11666    3621    2710     889\n",
       "1           r  programming       11666    2458    1814    1081\n",
       "2         sql     database       11666    2623    1995     694\n",
       "3        java  programming       11666    1059     762     339\n",
       "4  javascript  programming       11666     273     177     104"
      ],
      "text/html": "<div>\n<style scoped>\n    .dataframe tbody tr th:only-of-type {\n        vertical-align: middle;\n    }\n\n    .dataframe tbody tr th {\n        vertical-align: top;\n    }\n\n    .dataframe thead th {\n        text-align: right;\n    }\n</style>\n<table border=\"1\" class=\"dataframe\">\n  <thead>\n    <tr style=\"text-align: right;\">\n      <th></th>\n      <th>Skill</th>\n      <th>Category</th>\n      <th>total_jobs</th>\n      <th>indeed</th>\n      <th>simply</th>\n      <th>career</th>\n    </tr>\n  </thead>\n  <tbody>\n    <tr>\n      <td>0</td>\n      <td>python</td>\n      <td>programming</td>\n      <td>11666</td>\n      <td>3621</td>\n      <td>2710</td>\n      <td>889</td>\n    </tr>\n    <tr>\n      <td>1</td>\n      <td>r</td>\n      <td>programming</td>\n      <td>11666</td>\n      <td>2458</td>\n      <td>1814</td>\n      <td>1081</td>\n    </tr>\n    <tr>\n      <td>2</td>\n      <td>sql</td>\n      <td>database</td>\n      <td>11666</td>\n      <td>2623</td>\n      <td>1995</td>\n      <td>694</td>\n    </tr>\n    <tr>\n      <td>3</td>\n      <td>java</td>\n      <td>programming</td>\n      <td>11666</td>\n      <td>1059</td>\n      <td>762</td>\n      <td>339</td>\n    </tr>\n    <tr>\n      <td>4</td>\n      <td>javascript</td>\n      <td>programming</td>\n      <td>11666</td>\n      <td>273</td>\n      <td>177</td>\n      <td>104</td>\n    </tr>\n  </tbody>\n</table>\n</div>"
     },
     "metadata": {},
     "execution_count": 160
    }
   ],
   "source": [
    "career = []\n",
    "\n",
    "for i in career_list:\n",
    "    career.append(int(i))\n",
    "\n",
    "df['total_jobs'] = df['total_jobs'] + career_total\n",
    "df['career'] = career\n",
    "df.head()"
   ]
  },
  {
   "source": [
    "### Export Dataset"
   ],
   "cell_type": "markdown",
   "metadata": {}
  },
  {
   "cell_type": "code",
   "execution_count": 145,
   "metadata": {},
   "outputs": [
    {
     "output_type": "stream",
     "name": "stdout",
     "text": [
      "(50, 6)\n"
     ]
    }
   ],
   "source": [
    "print(df.shape)\n",
    "df.to_csv(\"ds_scraped_data.csv\")"
   ]
  }
 ]
}