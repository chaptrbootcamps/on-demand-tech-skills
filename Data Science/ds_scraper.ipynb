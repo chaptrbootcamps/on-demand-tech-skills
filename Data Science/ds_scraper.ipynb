{
 "metadata": {
  "language_info": {
   "codemirror_mode": {
    "name": "ipython",
    "version": 3
   },
   "file_extension": ".py",
   "mimetype": "text/x-python",
   "name": "python",
   "nbconvert_exporter": "python",
   "pygments_lexer": "ipython3",
   "version": "3.7.4-final"
  },
  "orig_nbformat": 2,
  "kernelspec": {
   "name": "python3",
   "display_name": "Python 3",
   "language": "python"
  }
 },
 "nbformat": 4,
 "nbformat_minor": 2,
 "cells": [
  {
   "source": [
    "# Data Science Jobs Scraper"
   ],
   "cell_type": "markdown",
   "metadata": {}
  },
  {
   "cell_type": "code",
   "execution_count": 1,
   "metadata": {},
   "outputs": [],
   "source": [
    "import re\n",
    "import requests\n",
    "import numpy as np\n",
    "import pandas as pd\n",
    "from bs4 import BeautifulSoup"
   ]
  },
  {
   "cell_type": "code",
   "execution_count": 11,
   "metadata": {},
   "outputs": [
    {
     "output_type": "stream",
     "name": "stdout",
     "text": [
      "Total Skills:  50  technologies\n"
     ]
    },
    {
     "output_type": "execute_result",
     "data": {
      "text/plain": [
       "        Skill     Category\n",
       "0      Python  Programming\n",
       "1           R  Programming\n",
       "2         SQL     Database\n",
       "3        Java  Programming\n",
       "4  JavaScript  Programming"
      ],
      "text/html": "<div>\n<style scoped>\n    .dataframe tbody tr th:only-of-type {\n        vertical-align: middle;\n    }\n\n    .dataframe tbody tr th {\n        vertical-align: top;\n    }\n\n    .dataframe thead th {\n        text-align: right;\n    }\n</style>\n<table border=\"1\" class=\"dataframe\">\n  <thead>\n    <tr style=\"text-align: right;\">\n      <th></th>\n      <th>Skill</th>\n      <th>Category</th>\n    </tr>\n  </thead>\n  <tbody>\n    <tr>\n      <td>0</td>\n      <td>Python</td>\n      <td>Programming</td>\n    </tr>\n    <tr>\n      <td>1</td>\n      <td>R</td>\n      <td>Programming</td>\n    </tr>\n    <tr>\n      <td>2</td>\n      <td>SQL</td>\n      <td>Database</td>\n    </tr>\n    <tr>\n      <td>3</td>\n      <td>Java</td>\n      <td>Programming</td>\n    </tr>\n    <tr>\n      <td>4</td>\n      <td>JavaScript</td>\n      <td>Programming</td>\n    </tr>\n  </tbody>\n</table>\n</div>"
     },
     "metadata": {},
     "execution_count": 11
    }
   ],
   "source": [
    "skills_df = pd.read_csv(\"ds_skills.csv\")\n",
    "print(\"Total Skills: \", skills_df.shape[0], \" technologies\")\n",
    "\n",
    "skills_df.head()"
   ]
  },
  {
   "cell_type": "code",
   "execution_count": 14,
   "metadata": {},
   "outputs": [
    {
     "output_type": "stream",
     "name": "stdout",
     "text": [
      "['Python', 'R', 'SQL', 'Java', 'JavaScript', 'C', 'Scala', 'Julia', 'SAS', 'MATLAB', 'Matplotlib', 'Seaborn', 'Bokeh', 'Plotly', 'ggplot', 'Numpy', 'Scipy', 'Pandas', 'Scikit-Learn', 'Keras', 'PyTorch', 'XGBoost', 'Tensorflow', 'AWS', 'Azure', 'Haskel', 'Swift', 'Octave', 'Perl', 'Lisp', 'Excel', 'Power BI', 'Tableau', 'Google Cloud', 'Spark', 'Hadoop', 'Git', 'SPSS', 'Stata', 'Pig', 'Hbase', 'Docker', 'Kubernetes', 'Statsmodels', 'NLTK', 'Scrapy', 'Beautiful Soup', 'Selenium', 'Github', 'NoSQL']\n"
     ]
    }
   ],
   "source": [
    "skills = skills_df['Skill'].to_list()\n",
    "print(skills)"
   ]
  },
  {
   "source": [
    "## Glassdoor"
   ],
   "cell_type": "markdown",
   "metadata": {}
  },
  {
   "cell_type": "code",
   "execution_count": null,
   "metadata": {},
   "outputs": [],
   "source": []
  },
  {
   "source": [
    "## Indeed"
   ],
   "cell_type": "markdown",
   "metadata": {}
  },
  {
   "cell_type": "code",
   "execution_count": 16,
   "metadata": {},
   "outputs": [
    {
     "output_type": "stream",
     "name": "stdout",
     "text": [
      "error: name 'bs' is not defined\n",
      "error: name 'bs' is not defined\n",
      "error: name 'bs' is not defined\n",
      "error: name 'bs' is not defined\n",
      "error: name 'bs' is not defined\n",
      "error: name 'bs' is not defined\n",
      "error: name 'bs' is not defined\n",
      "error: name 'bs' is not defined\n",
      "error: name 'bs' is not defined\n",
      "error: name 'bs' is not defined\n",
      "error: name 'bs' is not defined\n",
      "error: name 'bs' is not defined\n",
      "error: name 'bs' is not defined\n",
      "error: name 'bs' is not defined\n",
      "error: name 'bs' is not defined\n",
      "error: name 'bs' is not defined\n",
      "error: name 'bs' is not defined\n",
      "error: name 'bs' is not defined\n",
      "error: name 'bs' is not defined\n",
      "error: name 'bs' is not defined\n",
      "error: name 'bs' is not defined\n",
      "error: name 'bs' is not defined\n",
      "error: name 'bs' is not defined\n",
      "error: name 'bs' is not defined\n",
      "error: name 'bs' is not defined\n",
      "error: name 'bs' is not defined\n",
      "error: name 'bs' is not defined\n",
      "error: name 'bs' is not defined\n",
      "error: name 'bs' is not defined\n",
      "error: name 'bs' is not defined\n",
      "error: name 'bs' is not defined\n",
      "error: name 'bs' is not defined\n",
      "error: name 'bs' is not defined\n",
      "error: name 'bs' is not defined\n",
      "error: name 'bs' is not defined\n",
      "error: name 'bs' is not defined\n",
      "error: name 'bs' is not defined\n",
      "error: name 'bs' is not defined\n",
      "error: name 'bs' is not defined\n",
      "error: name 'bs' is not defined\n",
      "error: name 'bs' is not defined\n",
      "error: name 'bs' is not defined\n",
      "error: name 'bs' is not defined\n",
      "error: name 'bs' is not defined\n",
      "error: name 'bs' is not defined\n",
      "error: name 'bs' is not defined\n",
      "error: name 'bs' is not defined\n",
      "error: name 'bs' is not defined\n",
      "error: name 'bs' is not defined\n",
      "error: name 'bs' is not defined\n"
     ]
    },
    {
     "output_type": "execute_result",
     "data": {
      "text/plain": [
       "[]"
      ]
     },
     "metadata": {},
     "execution_count": 16
    }
   ],
   "source": [
    "indeed_list = []\n",
    "\n",
    "for term in skills:\n",
    "    url = f'https://www.indeed.com/jobs?q=%22data+scientist%22+%22{term}%22&l=United+States'\n",
    "    \n",
    "    try:\n",
    "        r = requests.get(url)\n",
    "        soup = bs(r.text, 'html.parser')\n",
    "        count_str = soup.find('div', id=\"searchCountPages\").get_text()\n",
    "        numb = count_str.split()\n",
    "        indeed_list.append(numb[-2])\n",
    "    except Exception as e:\n",
    "        print(f'error: {e}')\n",
    "        \n",
    "indeed_list"
   ]
  },
  {
   "source": [
    "## Monster"
   ],
   "cell_type": "markdown",
   "metadata": {}
  },
  {
   "cell_type": "code",
   "execution_count": null,
   "metadata": {},
   "outputs": [],
   "source": []
  }
 ]
}