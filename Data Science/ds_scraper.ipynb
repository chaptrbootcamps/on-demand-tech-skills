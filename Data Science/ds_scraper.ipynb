{
 "metadata": {
  "language_info": {
   "codemirror_mode": {
    "name": "ipython",
    "version": 3
   },
   "file_extension": ".py",
   "mimetype": "text/x-python",
   "name": "python",
   "nbconvert_exporter": "python",
   "pygments_lexer": "ipython3",
   "version": "3.7.4-final"
  },
  "orig_nbformat": 2,
  "kernelspec": {
   "name": "python3",
   "display_name": "Python 3",
   "language": "python"
  }
 },
 "nbformat": 4,
 "nbformat_minor": 2,
 "cells": [
  {
   "source": [
    "# Data Science Jobs Scraper"
   ],
   "cell_type": "markdown",
   "metadata": {}
  },
  {
   "cell_type": "code",
   "execution_count": 74,
   "metadata": {},
   "outputs": [],
   "source": [
    "import re\n",
    "import requests\n",
    "import numpy as np\n",
    "import pandas as pd\n",
    "from bs4 import BeautifulSoup"
   ]
  },
  {
   "source": [
    "### Target Skills"
   ],
   "cell_type": "markdown",
   "metadata": {}
  },
  {
   "cell_type": "code",
   "execution_count": 98,
   "metadata": {},
   "outputs": [
    {
     "output_type": "stream",
     "name": "stdout",
     "text": [
      "Total Skills:  50  technologies\n"
     ]
    },
    {
     "output_type": "execute_result",
     "data": {
      "text/plain": [
       "        Skill     Category  total_jobs\n",
       "0      python  programming           0\n",
       "1           r  programming           0\n",
       "2         sql     database           0\n",
       "3        java  programming           0\n",
       "4  javascript  programming           0"
      ],
      "text/html": "<div>\n<style scoped>\n    .dataframe tbody tr th:only-of-type {\n        vertical-align: middle;\n    }\n\n    .dataframe tbody tr th {\n        vertical-align: top;\n    }\n\n    .dataframe thead th {\n        text-align: right;\n    }\n</style>\n<table border=\"1\" class=\"dataframe\">\n  <thead>\n    <tr style=\"text-align: right;\">\n      <th></th>\n      <th>Skill</th>\n      <th>Category</th>\n      <th>total_jobs</th>\n    </tr>\n  </thead>\n  <tbody>\n    <tr>\n      <td>0</td>\n      <td>python</td>\n      <td>programming</td>\n      <td>0</td>\n    </tr>\n    <tr>\n      <td>1</td>\n      <td>r</td>\n      <td>programming</td>\n      <td>0</td>\n    </tr>\n    <tr>\n      <td>2</td>\n      <td>sql</td>\n      <td>database</td>\n      <td>0</td>\n    </tr>\n    <tr>\n      <td>3</td>\n      <td>java</td>\n      <td>programming</td>\n      <td>0</td>\n    </tr>\n    <tr>\n      <td>4</td>\n      <td>javascript</td>\n      <td>programming</td>\n      <td>0</td>\n    </tr>\n  </tbody>\n</table>\n</div>"
     },
     "metadata": {},
     "execution_count": 98
    }
   ],
   "source": [
    "df = pd.read_csv(\"ds_skills.csv\")\n",
    "\n",
    "df[\"Skill\"] = df[\"Skill\"].str.lower()\n",
    "df[\"Category\"] = df[\"Category\"].str.lower()\n",
    "df['total_jobs'] = 0\n",
    "\n",
    "print(\"Total Skills: \", df.shape[0], \" technologies\")\n",
    "df.head()"
   ]
  },
  {
   "cell_type": "code",
   "execution_count": 76,
   "metadata": {},
   "outputs": [
    {
     "output_type": "stream",
     "name": "stdout",
     "text": [
      "['python', 'r', 'sql', 'java', 'javascript', 'c', 'scala', 'julia', 'sas', 'matlab', 'matplotlib', 'seaborn', 'bokeh', 'plotly', 'ggplot', 'numpy', 'scipy', 'pandas', 'scikit learn', 'keras', 'pytorch', 'xgboost', 'tensorflow', 'aws', 'azure', 'haskel', 'swift', 'octave', 'perl', 'lisp', 'excel', 'power bi', 'tableau', 'google cloud', 'spark', 'hadoop', 'git', 'spss', 'stata', 'pig', 'hbase', 'docker', 'kubernetes', 'statsmodels', 'nltk', 'scrapy', 'beautiful soup', 'selenium', 'github', 'nosql']\n"
     ]
    }
   ],
   "source": [
    "skills = df['Skill'].to_list()\n",
    "\n",
    "print(skills)"
   ]
  },
  {
   "source": [
    "## Indeed"
   ],
   "cell_type": "markdown",
   "metadata": {}
  },
  {
   "cell_type": "code",
   "execution_count": 88,
   "metadata": {},
   "outputs": [
    {
     "output_type": "stream",
     "name": "stdout",
     "text": [
      "4773 Data Science Jobs\n"
     ]
    },
    {
     "output_type": "execute_result",
     "data": {
      "text/plain": [
       "        Skill     Category  total_jobs\n",
       "0      python  programming        4773\n",
       "1           r  programming        4773\n",
       "2         sql     database        4773\n",
       "3        java  programming        4773\n",
       "4  javascript  programming        4773"
      ],
      "text/html": "<div>\n<style scoped>\n    .dataframe tbody tr th:only-of-type {\n        vertical-align: middle;\n    }\n\n    .dataframe tbody tr th {\n        vertical-align: top;\n    }\n\n    .dataframe thead th {\n        text-align: right;\n    }\n</style>\n<table border=\"1\" class=\"dataframe\">\n  <thead>\n    <tr style=\"text-align: right;\">\n      <th></th>\n      <th>Skill</th>\n      <th>Category</th>\n      <th>total_jobs</th>\n    </tr>\n  </thead>\n  <tbody>\n    <tr>\n      <td>0</td>\n      <td>python</td>\n      <td>programming</td>\n      <td>4773</td>\n    </tr>\n    <tr>\n      <td>1</td>\n      <td>r</td>\n      <td>programming</td>\n      <td>4773</td>\n    </tr>\n    <tr>\n      <td>2</td>\n      <td>sql</td>\n      <td>database</td>\n      <td>4773</td>\n    </tr>\n    <tr>\n      <td>3</td>\n      <td>java</td>\n      <td>programming</td>\n      <td>4773</td>\n    </tr>\n    <tr>\n      <td>4</td>\n      <td>javascript</td>\n      <td>programming</td>\n      <td>4773</td>\n    </tr>\n  </tbody>\n</table>\n</div>"
     },
     "metadata": {},
     "execution_count": 88
    }
   ],
   "source": [
    "url = f'https://www.indeed.com/jobs?q=%22data+scientist%22&l=United+States'\n",
    "\n",
    "try:\n",
    "    r = requests.get(url)\n",
    "    soup = BeautifulSoup(r.text, 'html.parser')\n",
    "    count_str = soup.find('div', id=\"searchCountPages\").get_text()\n",
    "    numb = count_str.split()\n",
    "    indeed_total = int(re.sub(\",\", \"\", numb[-2]))\n",
    "\n",
    "except Exception as e:\n",
    "    print(f'error: {e}')\n",
    "\n",
    "print(indeed_total, \"Data Science Jobs\")"
   ]
  },
  {
   "cell_type": "code",
   "execution_count": 77,
   "metadata": {},
   "outputs": [
    {
     "output_type": "stream",
     "name": "stdout",
     "text": [
      "['3,640', '2,474', '2,629', '1,070', '276', '425', '645', '65', '723', '449', '128', '40', '84', '56', '87', '307', '156', '363', '426', '273', '406', '65', '683', '1,107', '487', '1', '10', '40', '106', '2', '507', '241', '1,081', '179', '1,238', '885', '259', '165', '62', '143', '105', '281', '188', '35', '42', '2', '1', '7', '172', '323']\n"
     ]
    }
   ],
   "source": [
    "indeed_list = []\n",
    "\n",
    "for skill in skills:\n",
    "    url = f'https://www.indeed.com/jobs?q=%22data+scientist%22+%22{skill}%22&l=United+States'\n",
    "    \n",
    "    try:\n",
    "        r = requests.get(url)\n",
    "        soup = BeautifulSoup(r.text, 'html.parser')\n",
    "        count_str = soup.find('div', id=\"searchCountPages\").get_text()\n",
    "        numb = count_str.split()\n",
    "        indeed_list.append(numb[-2])\n",
    "    except Exception as e:\n",
    "        print(f'error: {e}')\n",
    "        \n",
    "print(indeed_list)"
   ]
  },
  {
   "cell_type": "code",
   "execution_count": 99,
   "metadata": {},
   "outputs": [
    {
     "output_type": "execute_result",
     "data": {
      "text/plain": [
       "        Skill     Category  total_jobs  indeed\n",
       "0      python  programming        4773    3640\n",
       "1           r  programming        4773    2474\n",
       "2         sql     database        4773    2629\n",
       "3        java  programming        4773    1070\n",
       "4  javascript  programming        4773     276"
      ],
      "text/html": "<div>\n<style scoped>\n    .dataframe tbody tr th:only-of-type {\n        vertical-align: middle;\n    }\n\n    .dataframe tbody tr th {\n        vertical-align: top;\n    }\n\n    .dataframe thead th {\n        text-align: right;\n    }\n</style>\n<table border=\"1\" class=\"dataframe\">\n  <thead>\n    <tr style=\"text-align: right;\">\n      <th></th>\n      <th>Skill</th>\n      <th>Category</th>\n      <th>total_jobs</th>\n      <th>indeed</th>\n    </tr>\n  </thead>\n  <tbody>\n    <tr>\n      <td>0</td>\n      <td>python</td>\n      <td>programming</td>\n      <td>4773</td>\n      <td>3640</td>\n    </tr>\n    <tr>\n      <td>1</td>\n      <td>r</td>\n      <td>programming</td>\n      <td>4773</td>\n      <td>2474</td>\n    </tr>\n    <tr>\n      <td>2</td>\n      <td>sql</td>\n      <td>database</td>\n      <td>4773</td>\n      <td>2629</td>\n    </tr>\n    <tr>\n      <td>3</td>\n      <td>java</td>\n      <td>programming</td>\n      <td>4773</td>\n      <td>1070</td>\n    </tr>\n    <tr>\n      <td>4</td>\n      <td>javascript</td>\n      <td>programming</td>\n      <td>4773</td>\n      <td>276</td>\n    </tr>\n  </tbody>\n</table>\n</div>"
     },
     "metadata": {},
     "execution_count": 99
    }
   ],
   "source": [
    "indeed = []\n",
    "\n",
    "for i in indeed_list:\n",
    "    indeed.append(int(re.sub(\",\", \"\", i)))\n",
    "\n",
    "df['total_jobs'] = df['total_jobs'] + indeed_total\n",
    "df['indeed'] = indeed\n",
    "df.head()"
   ]
  },
  {
   "source": [
    "## Simply Hired"
   ],
   "cell_type": "markdown",
   "metadata": {}
  },
  {
   "cell_type": "code",
   "execution_count": 93,
   "metadata": {},
   "outputs": [
    {
     "output_type": "stream",
     "name": "stdout",
     "text": [
      "3518 Data Science Jobs\n"
     ]
    }
   ],
   "source": [
    "url = f'https://www.simplyhired.com/search?q=%22data+scientist%22&l=United+States'\n",
    "    \n",
    "try:\n",
    "    r = requests.get(url)\n",
    "    soup = BeautifulSoup(r.text, 'html.parser')\n",
    "    count_str = soup.find('span', class_=\"CategoryPath-total\").get_text()\n",
    "    simply_total = int(re.sub(\",\", \"\", count_str))\n",
    "\n",
    "except Exception as e:\n",
    "    print(f'error: {e}')\n",
    "\n",
    "print(simply_total, \"Data Science Jobs\")"
   ]
  },
  {
   "cell_type": "code",
   "execution_count": 96,
   "metadata": {},
   "outputs": [
    {
     "output_type": "stream",
     "name": "stdout",
     "text": [
      "['2,707', '1,814', '1,986', '765', '179', '325', '453', '60', '534', '319', '94', '29', '46', '53', '72', '227', '122', '293', '288', '214', '303', '47', '526', '788', '392', '1', '9', '13', '91', '2', '411', '201', '755', '121', '926', '690', '218', '131', '55', '108', '87', '191', '155', '24', '38', '2', '1', '7', '137', '265']\n"
     ]
    }
   ],
   "source": [
    "simply_list = []\n",
    "\n",
    "for skill in skills:\n",
    "    url = f'https://www.simplyhired.com/search?q=%22data+scientist%22+%22{skill}%22&l=United+States'\n",
    "    \n",
    "    try:\n",
    "        r = requests.get(url)\n",
    "        soup = BeautifulSoup(r.text, 'html.parser')\n",
    "        count_str = soup.find('span', class_=\"CategoryPath-total\").get_text()\n",
    "        simply_list.append(count_str)\n",
    "    except Exception as e:\n",
    "        print(f'error: {e}')\n",
    "        \n",
    "print(simply_list)"
   ]
  },
  {
   "cell_type": "code",
   "execution_count": 100,
   "metadata": {},
   "outputs": [
    {
     "output_type": "execute_result",
     "data": {
      "text/plain": [
       "        Skill     Category  total_jobs  indeed  simply\n",
       "0      python  programming        8291    3640    2707\n",
       "1           r  programming        8291    2474    1814\n",
       "2         sql     database        8291    2629    1986\n",
       "3        java  programming        8291    1070     765\n",
       "4  javascript  programming        8291     276     179"
      ],
      "text/html": "<div>\n<style scoped>\n    .dataframe tbody tr th:only-of-type {\n        vertical-align: middle;\n    }\n\n    .dataframe tbody tr th {\n        vertical-align: top;\n    }\n\n    .dataframe thead th {\n        text-align: right;\n    }\n</style>\n<table border=\"1\" class=\"dataframe\">\n  <thead>\n    <tr style=\"text-align: right;\">\n      <th></th>\n      <th>Skill</th>\n      <th>Category</th>\n      <th>total_jobs</th>\n      <th>indeed</th>\n      <th>simply</th>\n    </tr>\n  </thead>\n  <tbody>\n    <tr>\n      <td>0</td>\n      <td>python</td>\n      <td>programming</td>\n      <td>8291</td>\n      <td>3640</td>\n      <td>2707</td>\n    </tr>\n    <tr>\n      <td>1</td>\n      <td>r</td>\n      <td>programming</td>\n      <td>8291</td>\n      <td>2474</td>\n      <td>1814</td>\n    </tr>\n    <tr>\n      <td>2</td>\n      <td>sql</td>\n      <td>database</td>\n      <td>8291</td>\n      <td>2629</td>\n      <td>1986</td>\n    </tr>\n    <tr>\n      <td>3</td>\n      <td>java</td>\n      <td>programming</td>\n      <td>8291</td>\n      <td>1070</td>\n      <td>765</td>\n    </tr>\n    <tr>\n      <td>4</td>\n      <td>javascript</td>\n      <td>programming</td>\n      <td>8291</td>\n      <td>276</td>\n      <td>179</td>\n    </tr>\n  </tbody>\n</table>\n</div>"
     },
     "metadata": {},
     "execution_count": 100
    }
   ],
   "source": [
    "simply = []\n",
    "\n",
    "for i in simply_list:\n",
    "    simply.append(int(re.sub(\",\", \"\", i)))\n",
    "\n",
    "df['total_jobs'] = df['total_jobs'] + simply_total\n",
    "df['simply'] = simply\n",
    "df.head()"
   ]
  },
  {
   "source": [
    "## Glassdoor"
   ],
   "cell_type": "markdown",
   "metadata": {}
  },
  {
   "cell_type": "code",
   "execution_count": 105,
   "metadata": {},
   "outputs": [
    {
     "output_type": "stream",
     "name": "stdout",
     "text": [
      "error: 'NoneType' object has no attribute 'get_text'\n"
     ]
    }
   ],
   "source": [
    "url = f'https://www.glassdoor.com/Job/jobs.htm?sc.keyword=\"data+scientist\"+\"%22python%22\"&dropdown=0'\n",
    "    \n",
    "try:\n",
    "    r = requests.get(url)\n",
    "    soup = BeautifulSoup(r.text, 'html.parser')\n",
    "    count_str = soup.find('p', class_=\"jobsCount hidden\").get_text()\n",
    "    print(count_str)\n",
    "    #simply_total = int(re.sub(\",\", \"\", count_str))\n",
    "\n",
    "except Exception as e:\n",
    "    print(f'error: {e}')\n",
    "\n",
    "#print(simply_total, \"Data Science Jobs\")"
   ]
  },
  {
   "cell_type": "code",
   "execution_count": null,
   "metadata": {},
   "outputs": [],
   "source": []
  }
 ]
}