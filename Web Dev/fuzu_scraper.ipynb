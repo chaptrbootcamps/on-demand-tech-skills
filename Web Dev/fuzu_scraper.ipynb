{
 "metadata": {
  "language_info": {
   "codemirror_mode": {
    "name": "ipython",
    "version": 3
   },
   "file_extension": ".py",
   "mimetype": "text/x-python",
   "name": "python",
   "nbconvert_exporter": "python",
   "pygments_lexer": "ipython3",
   "version": "3.7.4-final"
  },
  "orig_nbformat": 2,
  "kernelspec": {
   "name": "python3",
   "display_name": "Python 3.7.4 64-bit ('base': conda)",
   "metadata": {
    "interpreter": {
     "hash": "ec466d8f8ee98f9844dd357ab0f80dec88256713a2137b7776e00f896987104b"
    }
   }
  }
 },
 "nbformat": 4,
 "nbformat_minor": 2,
 "cells": [
  {
   "cell_type": "code",
   "execution_count": 6,
   "metadata": {},
   "outputs": [],
   "source": [
    "import pandas as pd\n",
    "import re\n",
    "import requests\n",
    "from bs4 import BeautifulSoup"
   ]
  },
  {
   "cell_type": "code",
   "execution_count": 7,
   "metadata": {},
   "outputs": [
    {
     "output_type": "execute_result",
     "data": {
      "text/plain": [
       "        Skill     Category\n",
       "0  JavaScript  Programming\n",
       "1      Python  Programming\n",
       "2        Java  Programming\n",
       "3       Scala  Programming\n",
       "4        Rust  Programming\n",
       "5           C  Programming\n",
       "6          Go  Programming\n",
       "7         Php  Programming\n",
       "8        Ruby  Programming\n",
       "9       Swift  Programming"
      ],
      "text/html": "<div>\n<style scoped>\n    .dataframe tbody tr th:only-of-type {\n        vertical-align: middle;\n    }\n\n    .dataframe tbody tr th {\n        vertical-align: top;\n    }\n\n    .dataframe thead th {\n        text-align: right;\n    }\n</style>\n<table border=\"1\" class=\"dataframe\">\n  <thead>\n    <tr style=\"text-align: right;\">\n      <th></th>\n      <th>Skill</th>\n      <th>Category</th>\n    </tr>\n  </thead>\n  <tbody>\n    <tr>\n      <td>0</td>\n      <td>JavaScript</td>\n      <td>Programming</td>\n    </tr>\n    <tr>\n      <td>1</td>\n      <td>Python</td>\n      <td>Programming</td>\n    </tr>\n    <tr>\n      <td>2</td>\n      <td>Java</td>\n      <td>Programming</td>\n    </tr>\n    <tr>\n      <td>3</td>\n      <td>Scala</td>\n      <td>Programming</td>\n    </tr>\n    <tr>\n      <td>4</td>\n      <td>Rust</td>\n      <td>Programming</td>\n    </tr>\n    <tr>\n      <td>5</td>\n      <td>C</td>\n      <td>Programming</td>\n    </tr>\n    <tr>\n      <td>6</td>\n      <td>Go</td>\n      <td>Programming</td>\n    </tr>\n    <tr>\n      <td>7</td>\n      <td>Php</td>\n      <td>Programming</td>\n    </tr>\n    <tr>\n      <td>8</td>\n      <td>Ruby</td>\n      <td>Programming</td>\n    </tr>\n    <tr>\n      <td>9</td>\n      <td>Swift</td>\n      <td>Programming</td>\n    </tr>\n  </tbody>\n</table>\n</div>"
     },
     "metadata": {},
     "execution_count": 7
    }
   ],
   "source": [
    "data = pd.read_csv(\"/Users/cyrilmichino/Documents/GitHub/on-demand-tech-skills/Web Dev/wd_skills.csv\")\n",
    "data.head(10)"
   ]
  },
  {
   "cell_type": "code",
   "execution_count": 5,
   "metadata": {},
   "outputs": [
    {
     "output_type": "execute_result",
     "data": {
      "text/plain": [
       "(60, 2)"
      ]
     },
     "metadata": {},
     "execution_count": 5
    }
   ],
   "source": [
    "data.shape"
   ]
  },
  {
   "cell_type": "code",
   "execution_count": 23,
   "metadata": {},
   "outputs": [
    {
     "output_type": "execute_result",
     "data": {
      "text/plain": [
       "200"
      ]
     },
     "metadata": {},
     "execution_count": 23
    }
   ],
   "source": [
    "skill = \"python\"\n",
    "\n",
    "url = \"https://www.indeed.com/jobs?q=web+development+\" + skill + \"&l=New+York%2C+NY\"\n",
    "\n",
    "r = requests.get(url)\n",
    "r.status_code"
   ]
  },
  {
   "cell_type": "code",
   "execution_count": 24,
   "metadata": {
    "tags": []
   },
   "outputs": [],
   "source": [
    "soup = BeautifulSoup(r.text, 'html.parser')\n",
    "webdata = str(soup.find(id=\"searchCountPages\"))\n",
    "jobsstr = re.findall(\"Page 1 of ([0-9,]+) jobs\", webdata)[0]\n",
    "jobs = re.sub(\",\", \"\", jobsstr)\n"
   ]
  },
  {
   "cell_type": "code",
   "execution_count": 25,
   "metadata": {},
   "outputs": [
    {
     "output_type": "execute_result",
     "data": {
      "text/plain": [
       "'1034'"
      ]
     },
     "metadata": {},
     "execution_count": 25
    }
   ],
   "source": [
    "jobs"
   ]
  },
  {
   "cell_type": "code",
   "execution_count": null,
   "metadata": {},
   "outputs": [],
   "source": []
  }
 ]
}