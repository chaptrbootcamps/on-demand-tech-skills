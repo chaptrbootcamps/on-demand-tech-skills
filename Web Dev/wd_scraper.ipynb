{
 "metadata": {
  "language_info": {
   "codemirror_mode": {
    "name": "ipython",
    "version": 3
   },
   "file_extension": ".py",
   "mimetype": "text/x-python",
   "name": "python",
   "nbconvert_exporter": "python",
   "pygments_lexer": "ipython3",
   "version": "3.7.4-final"
  },
  "orig_nbformat": 2,
  "kernelspec": {
   "name": "python3",
   "display_name": "Python 3",
   "language": "python"
  }
 },
 "nbformat": 4,
 "nbformat_minor": 2,
 "cells": [
  {
   "source": [
    "# Data Science Jobs Scraper"
   ],
   "cell_type": "markdown",
   "metadata": {}
  },
  {
   "cell_type": "code",
   "execution_count": 19,
   "metadata": {},
   "outputs": [],
   "source": [
    "import re\n",
    "import requests\n",
    "import numpy as np\n",
    "import pandas as pd\n",
    "from bs4 import BeautifulSoup"
   ]
  },
  {
   "source": [
    "### Import Target Keywords"
   ],
   "cell_type": "markdown",
   "metadata": {}
  },
  {
   "cell_type": "code",
   "execution_count": 20,
   "metadata": {},
   "outputs": [
    {
     "output_type": "stream",
     "name": "stdout",
     "text": [
      "Total Skills:  60  technologies\n"
     ]
    },
    {
     "output_type": "execute_result",
     "data": {
      "text/plain": [
       "        Skill     Category  total_jobs\n",
       "0  javascript  programming           0\n",
       "1      python  programming           0\n",
       "2        java  programming           0\n",
       "3       scala  programming           0\n",
       "4        rust  programming           0"
      ],
      "text/html": "<div>\n<style scoped>\n    .dataframe tbody tr th:only-of-type {\n        vertical-align: middle;\n    }\n\n    .dataframe tbody tr th {\n        vertical-align: top;\n    }\n\n    .dataframe thead th {\n        text-align: right;\n    }\n</style>\n<table border=\"1\" class=\"dataframe\">\n  <thead>\n    <tr style=\"text-align: right;\">\n      <th></th>\n      <th>Skill</th>\n      <th>Category</th>\n      <th>total_jobs</th>\n    </tr>\n  </thead>\n  <tbody>\n    <tr>\n      <td>0</td>\n      <td>javascript</td>\n      <td>programming</td>\n      <td>0</td>\n    </tr>\n    <tr>\n      <td>1</td>\n      <td>python</td>\n      <td>programming</td>\n      <td>0</td>\n    </tr>\n    <tr>\n      <td>2</td>\n      <td>java</td>\n      <td>programming</td>\n      <td>0</td>\n    </tr>\n    <tr>\n      <td>3</td>\n      <td>scala</td>\n      <td>programming</td>\n      <td>0</td>\n    </tr>\n    <tr>\n      <td>4</td>\n      <td>rust</td>\n      <td>programming</td>\n      <td>0</td>\n    </tr>\n  </tbody>\n</table>\n</div>"
     },
     "metadata": {},
     "execution_count": 20
    }
   ],
   "source": [
    "df = pd.read_csv(\"wd_skills.csv\")\n",
    "\n",
    "df[\"Skill\"] = df[\"Skill\"].str.lower()\n",
    "df[\"Category\"] = df[\"Category\"].str.lower()\n",
    "df['total_jobs'] = 0\n",
    "\n",
    "print(\"Total Skills: \", df.shape[0], \" technologies\")\n",
    "df.head()"
   ]
  },
  {
   "cell_type": "code",
   "execution_count": 21,
   "metadata": {},
   "outputs": [
    {
     "output_type": "stream",
     "name": "stdout",
     "text": [
      "['javascript', 'python', 'java', 'scala', 'rust', 'c', 'go', 'php', 'ruby', 'swift', 'bash', 'html', 'css', 'sass', 'markdown', 'aws', 'azure', 'google cloud', 'react', 'angular', 'vue', 'heroku', 'netlify', 'github pages', 'firebase', 'git', 'github', 'bitbucket', 'gitlab', 'wordpress', 'strapi', 'contentful', 'figma', 'adobe xd', 'sql', 'nosql', 'mongo', 'mysql', 'postgresql', 'maria', 'oracle 12c', 'microsft sql', 'db2', 'graphql', 'sockets', 'digital ocean', 'cpanel', 'docker', 'kubernetes', 'nginx', 'apache', 'rest', 'django', 'ruby on rails', 'node', 'laravel', 'flask', 'cloudflare', 'nextjs', 'gatsby']\n"
     ]
    }
   ],
   "source": [
    "skills = df['Skill'].to_list()\n",
    "\n",
    "print(skills)"
   ]
  },
  {
   "source": [
    "## Indeed"
   ],
   "cell_type": "markdown",
   "metadata": {}
  },
  {
   "cell_type": "code",
   "execution_count": 22,
   "metadata": {},
   "outputs": [
    {
     "output_type": "stream",
     "name": "stdout",
     "text": [
      "9825 Web Development Jobs\n"
     ]
    }
   ],
   "source": [
    "url = f'https://www.indeed.com/jobs?q=%22web+development%22&l=United+States'\n",
    "\n",
    "try:\n",
    "    r = requests.get(url)\n",
    "    soup = BeautifulSoup(r.text, 'html.parser')\n",
    "    count_str = soup.find('div', id=\"searchCountPages\").get_text()\n",
    "    numb = count_str.split()\n",
    "    indeed_total = int(re.sub(\",\", \"\", numb[-2]))\n",
    "\n",
    "except Exception as e:\n",
    "    print(f'error: {e}')\n",
    "\n",
    "print(indeed_total, \"Web Development Jobs\")"
   ]
  },
  {
   "cell_type": "code",
   "execution_count": 23,
   "metadata": {},
   "outputs": [
    {
     "output_type": "stream",
     "name": "stdout",
     "text": [
      "error: 'NoneType' object has no attribute 'get_text'\n",
      "microsft sql\n",
      "['5,141', '1,683', '2,359', '93', '31', '778', '733', '1,320', '617', '157', '197', '3,760', '3,787', '477', '5', '1,404', '822', '132', '2,210', '1,892', '601', '51', '1', '2', '21', '1,770', '430', '213', '162', '920', '2', '15', '89', '85', '2,808', '441', '95', '1,019', '386', '8', '16', 0, '70', '170', '20', '4', '20', '710', '477', '108', '379', '1,432', '274', '242', '966', '140', '114', '10', '12', '29']\n"
     ]
    }
   ],
   "source": [
    "indeed_list = []\n",
    "\n",
    "for skill in skills:\n",
    "    url = f'https://www.indeed.com/jobs?q=%22web+development%22+%22{skill}%22&l=United+States'\n",
    "    \n",
    "    try:\n",
    "        r = requests.get(url)\n",
    "        soup = BeautifulSoup(r.text, 'html.parser')\n",
    "        count_str = soup.find('div', id=\"searchCountPages\").get_text()\n",
    "        numb = count_str.split()\n",
    "        indeed_list.append(numb[-2])\n",
    "    except Exception as e:\n",
    "        indeed_list.append(0)\n",
    "        print(f'error: {e}')\n",
    "        print(skill)\n",
    "\n",
    "print(indeed_list)"
   ]
  },
  {
   "cell_type": "code",
   "execution_count": 24,
   "metadata": {},
   "outputs": [
    {
     "output_type": "execute_result",
     "data": {
      "text/plain": [
       "        Skill     Category  total_jobs  indeed\n",
       "0  javascript  programming        9825    5141\n",
       "1      python  programming        9825    1683\n",
       "2        java  programming        9825    2359\n",
       "3       scala  programming        9825      93\n",
       "4        rust  programming        9825      31"
      ],
      "text/html": "<div>\n<style scoped>\n    .dataframe tbody tr th:only-of-type {\n        vertical-align: middle;\n    }\n\n    .dataframe tbody tr th {\n        vertical-align: top;\n    }\n\n    .dataframe thead th {\n        text-align: right;\n    }\n</style>\n<table border=\"1\" class=\"dataframe\">\n  <thead>\n    <tr style=\"text-align: right;\">\n      <th></th>\n      <th>Skill</th>\n      <th>Category</th>\n      <th>total_jobs</th>\n      <th>indeed</th>\n    </tr>\n  </thead>\n  <tbody>\n    <tr>\n      <td>0</td>\n      <td>javascript</td>\n      <td>programming</td>\n      <td>9825</td>\n      <td>5141</td>\n    </tr>\n    <tr>\n      <td>1</td>\n      <td>python</td>\n      <td>programming</td>\n      <td>9825</td>\n      <td>1683</td>\n    </tr>\n    <tr>\n      <td>2</td>\n      <td>java</td>\n      <td>programming</td>\n      <td>9825</td>\n      <td>2359</td>\n    </tr>\n    <tr>\n      <td>3</td>\n      <td>scala</td>\n      <td>programming</td>\n      <td>9825</td>\n      <td>93</td>\n    </tr>\n    <tr>\n      <td>4</td>\n      <td>rust</td>\n      <td>programming</td>\n      <td>9825</td>\n      <td>31</td>\n    </tr>\n  </tbody>\n</table>\n</div>"
     },
     "metadata": {},
     "execution_count": 24
    }
   ],
   "source": [
    "indeed = []\n",
    "\n",
    "for i in indeed_list:\n",
    "    indeed.append(int(re.sub(\",\", \"\", str(i))))\n",
    "\n",
    "df['total_jobs'] = df['total_jobs'] + indeed_total\n",
    "df['indeed'] = indeed\n",
    "df.head()"
   ]
  },
  {
   "source": [
    "## Simply Hired"
   ],
   "cell_type": "markdown",
   "metadata": {}
  },
  {
   "cell_type": "code",
   "execution_count": 25,
   "metadata": {},
   "outputs": [
    {
     "output_type": "stream",
     "name": "stdout",
     "text": [
      "7728 Web Development Jobs\n"
     ]
    }
   ],
   "source": [
    "url = f'https://www.simplyhired.com/search?q=%22web+development%22&l=United+States'\n",
    "    \n",
    "try:\n",
    "    r = requests.get(url)\n",
    "    soup = BeautifulSoup(r.text, 'html.parser')\n",
    "    count_str = soup.find('span', class_=\"CategoryPath-total\").get_text()\n",
    "    simply_total = int(re.sub(\",\", \"\", count_str))\n",
    "\n",
    "except Exception as e:\n",
    "    print(f'error: {e}')\n",
    "\n",
    "print(simply_total, \"Web Development Jobs\")"
   ]
  },
  {
   "cell_type": "code",
   "execution_count": 26,
   "metadata": {},
   "outputs": [
    {
     "output_type": "stream",
     "name": "stdout",
     "text": [
      "error: 'NoneType' object has no attribute 'get_text'\n",
      "microsft sql\n",
      "['4,001', '1,350', '1,883', '73', '26', '597', '633', '1,153', '497', '100', '155', '3,024', '3,017', '391', '5', '1,140', '673', '122', '1,633', '1,380', '500', '44', '1', '2', '19', '1,477', '375', '164', '140', '830', '2', '13', '77', '59', '2,320', '348', '74', '853', '319', '5', '11', 0, '57', '155', '17', '4', '14', '558', '355', '94', '331', '1,134', '211', '196', '795', '120', '85', '9', '11', '26']\n"
     ]
    }
   ],
   "source": [
    "simply_list = []\n",
    "\n",
    "for skill in skills:\n",
    "    url = f'https://www.simplyhired.com/search?q=%22web+development%22+%22{skill}%22&l=United+States'\n",
    "    \n",
    "    try:\n",
    "        r = requests.get(url)\n",
    "        soup = BeautifulSoup(r.text, 'html.parser')\n",
    "        count_str = soup.find('span', class_=\"CategoryPath-total\").get_text()\n",
    "        simply_list.append(count_str)\n",
    "    except Exception as e:\n",
    "        simply_list.append(0)\n",
    "        print(f'error: {e}')\n",
    "        print(skill)\n",
    "        \n",
    "print(simply_list)"
   ]
  },
  {
   "cell_type": "code",
   "execution_count": 28,
   "metadata": {},
   "outputs": [
    {
     "output_type": "execute_result",
     "data": {
      "text/plain": [
       "        Skill     Category  total_jobs  indeed  simply\n",
       "0  javascript  programming       17553    5141    4001\n",
       "1      python  programming       17553    1683    1350\n",
       "2        java  programming       17553    2359    1883\n",
       "3       scala  programming       17553      93      73\n",
       "4        rust  programming       17553      31      26"
      ],
      "text/html": "<div>\n<style scoped>\n    .dataframe tbody tr th:only-of-type {\n        vertical-align: middle;\n    }\n\n    .dataframe tbody tr th {\n        vertical-align: top;\n    }\n\n    .dataframe thead th {\n        text-align: right;\n    }\n</style>\n<table border=\"1\" class=\"dataframe\">\n  <thead>\n    <tr style=\"text-align: right;\">\n      <th></th>\n      <th>Skill</th>\n      <th>Category</th>\n      <th>total_jobs</th>\n      <th>indeed</th>\n      <th>simply</th>\n    </tr>\n  </thead>\n  <tbody>\n    <tr>\n      <td>0</td>\n      <td>javascript</td>\n      <td>programming</td>\n      <td>17553</td>\n      <td>5141</td>\n      <td>4001</td>\n    </tr>\n    <tr>\n      <td>1</td>\n      <td>python</td>\n      <td>programming</td>\n      <td>17553</td>\n      <td>1683</td>\n      <td>1350</td>\n    </tr>\n    <tr>\n      <td>2</td>\n      <td>java</td>\n      <td>programming</td>\n      <td>17553</td>\n      <td>2359</td>\n      <td>1883</td>\n    </tr>\n    <tr>\n      <td>3</td>\n      <td>scala</td>\n      <td>programming</td>\n      <td>17553</td>\n      <td>93</td>\n      <td>73</td>\n    </tr>\n    <tr>\n      <td>4</td>\n      <td>rust</td>\n      <td>programming</td>\n      <td>17553</td>\n      <td>31</td>\n      <td>26</td>\n    </tr>\n  </tbody>\n</table>\n</div>"
     },
     "metadata": {},
     "execution_count": 28
    }
   ],
   "source": [
    "simply = []\n",
    "\n",
    "for i in simply_list:\n",
    "    simply.append(int(re.sub(\",\", \"\", str(i))))\n",
    "\n",
    "df['total_jobs'] = df['total_jobs'] + simply_total\n",
    "df['simply'] = simply\n",
    "df.head()"
   ]
  },
  {
   "source": [
    "## Glassdoor"
   ],
   "cell_type": "markdown",
   "metadata": {}
  },
  {
   "cell_type": "code",
   "execution_count": 29,
   "metadata": {},
   "outputs": [
    {
     "output_type": "stream",
     "name": "stdout",
     "text": [
      "403\n"
     ]
    }
   ],
   "source": [
    "url = f'https://www.glassdoor.com/Job/jobs.htm?sc.keyword=\"web+development\"+\"%22python%22\"'\n",
    "\n",
    "r = requests.get(url)\n",
    "print(r.status_code)"
   ]
  },
  {
   "source": [
    "**Status code is 403 (Forbidden)**. Therefore, we can not scrape content from Glassdoor. Optionally, we can try using **Selenium** in the future."
   ],
   "cell_type": "markdown",
   "metadata": {}
  },
  {
   "source": [
    "## Zip Recruiter"
   ],
   "cell_type": "markdown",
   "metadata": {}
  },
  {
   "cell_type": "code",
   "execution_count": 30,
   "metadata": {},
   "outputs": [
    {
     "output_type": "stream",
     "name": "stdout",
     "text": [
      "403\n"
     ]
    }
   ],
   "source": [
    "url = f'https://www.ziprecruiter.com/candidate/search?search=web+development&location=United+States'\n",
    "\n",
    "r = requests.get(url)\n",
    "print(r.status_code)"
   ]
  },
  {
   "source": [
    "**Status code is 403 (Forbidden)**. Therefore, we can not scrape content from Glassdoor. Optionally, we can try using **Selenium** in the future."
   ],
   "cell_type": "markdown",
   "metadata": {}
  },
  {
   "source": [
    "## Career Builder"
   ],
   "cell_type": "markdown",
   "metadata": {}
  },
  {
   "cell_type": "code",
   "execution_count": 31,
   "metadata": {
    "tags": []
   },
   "outputs": [
    {
     "output_type": "stream",
     "name": "stdout",
     "text": [
      "15858 Web Development Jobs\n"
     ]
    }
   ],
   "source": [
    "url = 'https://www.careerbuilder.com/jobs?keywords=Web+Development&location=United+States'\n",
    "\n",
    "try:\n",
    "    r = requests.get(url)\n",
    "    soup = BeautifulSoup(r.text, 'html.parser')\n",
    "    count_str = soup.find('h1', class_=\"fz1rem\").get_text()\n",
    "    career_total = int(re.sub(\",\", \"\", count_str.split()[0]))\n",
    "\n",
    "except Exception as e:\n",
    "    print(f'error: {e}')\n",
    "\n",
    "print(career_total, \"Web Development Jobs\")"
   ]
  },
  {
   "cell_type": "code",
   "execution_count": 32,
   "metadata": {},
   "outputs": [
    {
     "output_type": "stream",
     "name": "stdout",
     "text": [
      "error: 'NoneType' object has no attribute 'get_text'\n",
      "strapi\n",
      "error: 'NoneType' object has no attribute 'get_text'\n",
      "microsft sql\n",
      "error: 'NoneType' object has no attribute 'get_text'\n",
      "gatsby\n",
      "[4787, 2233, 5192, 195, 13, 3282, 1206, 535, 504, 147, 387, 4016, 3443, 344, 11, 2638, 1966, 450, 1879, 2257, 390, 39, 4, 14, 28, 2351, 538, 305, 191, 217, 0, 7, 54, 45, 5196, 926, 133, 832, 478, 12, 19, 0, 287, 178, 65, 2, 4, 1111, 707, 121, 810, 3084, 127, 164, 1183, 50, 96, 3, 11, 0]\n"
     ]
    }
   ],
   "source": [
    "career_list = []\n",
    "\n",
    "for skill in skills:\n",
    "    keyword = str(re.sub(\",\", \"+\", skill))\n",
    "    url = f'https://www.careerbuilder.com/jobs?keywords={keyword}+Web+Development&location=United+States'\n",
    "    \n",
    "    try:\n",
    "        r = requests.get(url)\n",
    "        soup = BeautifulSoup(r.text, 'html.parser')\n",
    "        count_str = soup.find('h1', class_=\"fz1rem\").get_text()\n",
    "        career_list.append(int(re.sub(\",\", \"\", count_str.split()[0])))\n",
    "    \n",
    "    except Exception as e:\n",
    "        career_list.append(0)\n",
    "        print(f'error: {e}')\n",
    "        print(skill)\n",
    "        \n",
    "print(career_list)"
   ]
  },
  {
   "cell_type": "code",
   "execution_count": 33,
   "metadata": {},
   "outputs": [
    {
     "output_type": "execute_result",
     "data": {
      "text/plain": [
       "        Skill     Category  total_jobs  indeed  simply  career\n",
       "0  javascript  programming       33411    5141    4001    4787\n",
       "1      python  programming       33411    1683    1350    2233\n",
       "2        java  programming       33411    2359    1883    5192\n",
       "3       scala  programming       33411      93      73     195\n",
       "4        rust  programming       33411      31      26      13"
      ],
      "text/html": "<div>\n<style scoped>\n    .dataframe tbody tr th:only-of-type {\n        vertical-align: middle;\n    }\n\n    .dataframe tbody tr th {\n        vertical-align: top;\n    }\n\n    .dataframe thead th {\n        text-align: right;\n    }\n</style>\n<table border=\"1\" class=\"dataframe\">\n  <thead>\n    <tr style=\"text-align: right;\">\n      <th></th>\n      <th>Skill</th>\n      <th>Category</th>\n      <th>total_jobs</th>\n      <th>indeed</th>\n      <th>simply</th>\n      <th>career</th>\n    </tr>\n  </thead>\n  <tbody>\n    <tr>\n      <td>0</td>\n      <td>javascript</td>\n      <td>programming</td>\n      <td>33411</td>\n      <td>5141</td>\n      <td>4001</td>\n      <td>4787</td>\n    </tr>\n    <tr>\n      <td>1</td>\n      <td>python</td>\n      <td>programming</td>\n      <td>33411</td>\n      <td>1683</td>\n      <td>1350</td>\n      <td>2233</td>\n    </tr>\n    <tr>\n      <td>2</td>\n      <td>java</td>\n      <td>programming</td>\n      <td>33411</td>\n      <td>2359</td>\n      <td>1883</td>\n      <td>5192</td>\n    </tr>\n    <tr>\n      <td>3</td>\n      <td>scala</td>\n      <td>programming</td>\n      <td>33411</td>\n      <td>93</td>\n      <td>73</td>\n      <td>195</td>\n    </tr>\n    <tr>\n      <td>4</td>\n      <td>rust</td>\n      <td>programming</td>\n      <td>33411</td>\n      <td>31</td>\n      <td>26</td>\n      <td>13</td>\n    </tr>\n  </tbody>\n</table>\n</div>"
     },
     "metadata": {},
     "execution_count": 33
    }
   ],
   "source": [
    "career = []\n",
    "\n",
    "for i in career_list:\n",
    "    career.append(int(i))\n",
    "\n",
    "df['total_jobs'] = df['total_jobs'] + career_total\n",
    "df['career'] = career\n",
    "df.head()"
   ]
  },
  {
   "source": [
    "### Export Dataset"
   ],
   "cell_type": "markdown",
   "metadata": {}
  },
  {
   "cell_type": "code",
   "execution_count": 34,
   "metadata": {},
   "outputs": [
    {
     "output_type": "stream",
     "name": "stdout",
     "text": [
      "(60, 6)\n"
     ]
    }
   ],
   "source": [
    "print(df.shape)\n",
    "df.to_csv(\"wd_scraped_data.csv\")"
   ]
  }
 ]
}